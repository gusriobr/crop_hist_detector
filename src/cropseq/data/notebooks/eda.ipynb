{
 "cells": [
  {
   "cell_type": "code",
   "execution_count": 3,
   "metadata": {
    "collapsed": true
   },
   "outputs": [],
   "source": [
    "import pandas as  pd\n",
    "import numpy as np\n",
    "from cropseq import cfg"
   ]
  },
  {
   "cell_type": "code",
   "execution_count": 7,
   "outputs": [
    {
     "data": {
      "text/plain": "               x             y  2011  2012  2013  2014  2015  2016  2017  \\\n0  350608.882604  4.536886e+06    31    13    32    52    52    32    32   \n1  350490.619358  4.536925e+06    31    35    31    32    35    52    50   \n2  350226.013907  4.526511e+06   120    31   120   120   120   204   120   \n3  353276.688983  4.528004e+06    32    35    50    35    35    35    33   \n4  351248.336558  4.528920e+06    35    50    32    50    31    50    32   \n\n   2018  2019  2020  2021       cubierta land_usage  \n0    17    33    33    20  Suelo Desnudo  Bare soil  \n1    32    33    52    20  Suelo Desnudo  Bare soil  \n2    50    20   120   201       Matorral      Scrub  \n3     4    33    20    33        Centeno        Rye  \n4    50    33    20    32         Cebada     Barley  ",
      "text/html": "<div>\n<style scoped>\n    .dataframe tbody tr th:only-of-type {\n        vertical-align: middle;\n    }\n\n    .dataframe tbody tr th {\n        vertical-align: top;\n    }\n\n    .dataframe thead th {\n        text-align: right;\n    }\n</style>\n<table border=\"1\" class=\"dataframe\">\n  <thead>\n    <tr style=\"text-align: right;\">\n      <th></th>\n      <th>x</th>\n      <th>y</th>\n      <th>2011</th>\n      <th>2012</th>\n      <th>2013</th>\n      <th>2014</th>\n      <th>2015</th>\n      <th>2016</th>\n      <th>2017</th>\n      <th>2018</th>\n      <th>2019</th>\n      <th>2020</th>\n      <th>2021</th>\n      <th>cubierta</th>\n      <th>land_usage</th>\n    </tr>\n  </thead>\n  <tbody>\n    <tr>\n      <th>0</th>\n      <td>350608.882604</td>\n      <td>4.536886e+06</td>\n      <td>31</td>\n      <td>13</td>\n      <td>32</td>\n      <td>52</td>\n      <td>52</td>\n      <td>32</td>\n      <td>32</td>\n      <td>17</td>\n      <td>33</td>\n      <td>33</td>\n      <td>20</td>\n      <td>Suelo Desnudo</td>\n      <td>Bare soil</td>\n    </tr>\n    <tr>\n      <th>1</th>\n      <td>350490.619358</td>\n      <td>4.536925e+06</td>\n      <td>31</td>\n      <td>35</td>\n      <td>31</td>\n      <td>32</td>\n      <td>35</td>\n      <td>52</td>\n      <td>50</td>\n      <td>32</td>\n      <td>33</td>\n      <td>52</td>\n      <td>20</td>\n      <td>Suelo Desnudo</td>\n      <td>Bare soil</td>\n    </tr>\n    <tr>\n      <th>2</th>\n      <td>350226.013907</td>\n      <td>4.526511e+06</td>\n      <td>120</td>\n      <td>31</td>\n      <td>120</td>\n      <td>120</td>\n      <td>120</td>\n      <td>204</td>\n      <td>120</td>\n      <td>50</td>\n      <td>20</td>\n      <td>120</td>\n      <td>201</td>\n      <td>Matorral</td>\n      <td>Scrub</td>\n    </tr>\n    <tr>\n      <th>3</th>\n      <td>353276.688983</td>\n      <td>4.528004e+06</td>\n      <td>32</td>\n      <td>35</td>\n      <td>50</td>\n      <td>35</td>\n      <td>35</td>\n      <td>35</td>\n      <td>33</td>\n      <td>4</td>\n      <td>33</td>\n      <td>20</td>\n      <td>33</td>\n      <td>Centeno</td>\n      <td>Rye</td>\n    </tr>\n    <tr>\n      <th>4</th>\n      <td>351248.336558</td>\n      <td>4.528920e+06</td>\n      <td>35</td>\n      <td>50</td>\n      <td>32</td>\n      <td>50</td>\n      <td>31</td>\n      <td>50</td>\n      <td>32</td>\n      <td>50</td>\n      <td>33</td>\n      <td>20</td>\n      <td>32</td>\n      <td>Cebada</td>\n      <td>Barley</td>\n    </tr>\n  </tbody>\n</table>\n</div>"
     },
     "execution_count": 7,
     "metadata": {},
     "output_type": "execute_result"
    }
   ],
   "source": [
    "dts_file = cfg.resource(\"dataset.pickle\")\n",
    "df = pd.read_pickle(dts_file)\n",
    "df.head()"
   ],
   "metadata": {
    "collapsed": false,
    "pycharm": {
     "name": "#%%\n"
    }
   }
  },
  {
   "cell_type": "code",
   "execution_count": null,
   "outputs": [],
   "source": [
    "Analizar el año 2021\n",
    "Number of categories per year\n",
    "Number of points\n"
   ],
   "metadata": {
    "collapsed": false,
    "pycharm": {
     "name": "#%%\n"
    }
   }
  }
 ],
 "metadata": {
  "kernelspec": {
   "display_name": "Python 3",
   "language": "python",
   "name": "python3"
  },
  "language_info": {
   "codemirror_mode": {
    "name": "ipython",
    "version": 2
   },
   "file_extension": ".py",
   "mimetype": "text/x-python",
   "name": "python",
   "nbconvert_exporter": "python",
   "pygments_lexer": "ipython2",
   "version": "2.7.6"
  }
 },
 "nbformat": 4,
 "nbformat_minor": 0
}