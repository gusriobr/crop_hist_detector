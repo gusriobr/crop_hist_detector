{
 "cells": [
  {
   "cell_type": "code",
   "execution_count": 1,
   "metadata": {
    "collapsed": true
   },
   "outputs": [],
   "source": [
    "import json\n",
    "import sys,os\n",
    "import pomegranate\n",
    "import numpy as np\n",
    "import random\n",
    "import pandas as pd\n",
    "import pickle\n",
    "sys.path.append(\"../../../\")\n",
    "\n",
    "from cropseq import cfg"
   ]
  },
  {
   "cell_type": "code",
   "execution_count": 2,
   "metadata": {
    "pycharm": {
     "name": "#%%\n"
    }
   },
   "outputs": [],
   "source": [
    "# Load dataset sample\n",
    "ds_path = cfg.resource('dataset.pickle')\n",
    "df = pd.read_pickle(ds_path)\n",
    "\n",
    "df_lus = df[[\"2021\",\"land_usage\"]].drop_duplicates()\n",
    "df_lus.columns = [\"code\",\"land_usage\"]\n",
    "\n",
    "columns = ['2011', '2012', '2013', '2014', '2015', '2016', '2017', '2018', '2019', '2020']\n",
    "X = df[columns].values\n",
    "y = df['2021'].values\n",
    "X = X[random.sample(range(0,X.shape[0]), 1000),:] # sample 1000 randomly"
   ]
  },
  {
   "cell_type": "code",
   "execution_count": 3,
   "metadata": {
    "pycharm": {
     "name": "#%%\n"
    }
   },
   "outputs": [],
   "source": [
    "# load land-usage code to name mapping\n",
    "with open(cfg.resource(\"lu_mapping_2021.json\"), 'r') as fout:\n",
    "    lu_dict = json.load(fout)\n"
   ]
  },
  {
   "cell_type": "code",
   "execution_count": 4,
   "metadata": {
    "pycharm": {
     "name": "#%%\n"
    }
   },
   "outputs": [
    {
     "name": "stdout",
     "output_type": "stream",
     "text": [
      "None:{\n",
      "    \"class\" : \"State\",\n",
      "    \"distribution\" : {\n",
      "        \"class\" : \"Distribution\",\n",
      "        \"dtype\" : \"numpy.uint8\",\n",
      "        \"name\" : \"DiscreteDistribution\",\n",
      "        \"parameters\" : [\n",
      "            {\n",
      "                \"0\" : 0.0020748336905820055,\n",
      "                \"2\" : 0.0015392168280324607,\n",
      "                \"3\" : 0.005114584898380839,\n",
      "                \"4\" : 0.0,\n",
      "                \"6\" : 0.008877154780308288,\n",
      "                \"7\" : 0.00836384063587913,\n",
      "                \"8\" : 0.0,\n",
      "                \"10\" : 0.0,\n",
      "                \"11\" : 0.00922065714098055,\n",
      "                \"12\" : 0.0038624502596528248,\n",
      "                \"13\" : 0.0021580719583834816,\n",
      "                \"14\" : 0.0,\n",
      "                \"15\" : 0.0030028059130984444,\n",
      "                \"17\" : 0.011794219915670378,\n",
      "                \"20\" : 0.05200244774908914,\n",
      "                \"31\" : 0.1397498122563102,\n",
      "                \"32\" : 0.5393867153551771,\n",
      "                \"33\" : 0.0,\n",
      "                \"34\" : 0.0,\n",
      "                \"35\" : 0.11581615358311985,\n",
      "                \"45\" : 0.007869859275855056,\n",
      "                \"50\" : 0.07240884071350068,\n",
      "                \"51\" : 0.000794063604900601,\n",
      "                \"52\" : 0.0012962712271225492,\n",
      "                \"53\" : 0.008459752147769136,\n",
      "                \"85\" : 0.0,\n",
      "                \"120\" : 5.752497440685943e-05,\n",
      "                \"192\" : 0.0,\n",
      "                \"201\" : 0.006150723091778039,\n",
      "                \"203\" : 8.25478636200119e-117,\n",
      "                \"204\" : 0.0,\n",
      "                \"255\" : 0.0\n",
      "            }\n",
      "        ],\n",
      "        \"frozen\" : false\n",
      "    },\n",
      "    \"name\" : \"s0\",\n",
      "    \"weight\" : 1.0\n",
      "}{\n",
      "    \"class\" : \"State\",\n",
      "    \"distribution\" : {\n",
      "        \"class\" : \"Distribution\",\n",
      "        \"dtype\" : \"numpy.uint8\",\n",
      "        \"name\" : \"DiscreteDistribution\",\n",
      "        \"parameters\" : [\n",
      "            {\n",
      "                \"0\" : 3.3428368084451197e-63,\n",
      "                \"2\" : 0.04595865276062667,\n",
      "                \"3\" : 0.1574394263751648,\n",
      "                \"4\" : 0.002965908842409672,\n",
      "                \"6\" : 0.0014371725282371407,\n",
      "                \"7\" : 2.1224227364666394e-92,\n",
      "                \"8\" : 0.0,\n",
      "                \"10\" : 0.0011774051663046652,\n",
      "                \"11\" : 0.010507329730087736,\n",
      "                \"12\" : 0.0017115015926907795,\n",
      "                \"13\" : 0.036764324034883694,\n",
      "                \"14\" : 0.012951456829351329,\n",
      "                \"15\" : 0.001326351872083068,\n",
      "                \"17\" : 0.0027499988691397546,\n",
      "                \"20\" : 0.0365566565995256,\n",
      "                \"31\" : 0.03576820067942763,\n",
      "                \"32\" : 0.019701626872950972,\n",
      "                \"33\" : 0.003719018381635179,\n",
      "                \"34\" : 0.0039227770489994465,\n",
      "                \"35\" : 0.010118447262363271,\n",
      "                \"45\" : 0.004740985984596241,\n",
      "                \"50\" : 0.02479291766166792,\n",
      "                \"51\" : 0.02054603612077257,\n",
      "                \"52\" : 0.0,\n",
      "                \"53\" : 0.0009239168604083927,\n",
      "                \"85\" : 0.22419806370704903,\n",
      "                \"120\" : 0.12299052550581478,\n",
      "                \"192\" : 0.0034728605691268927,\n",
      "                \"201\" : 0.16058676041626052,\n",
      "                \"203\" : 0.04119762606537745,\n",
      "                \"204\" : 0.008241836164132614,\n",
      "                \"255\" : 0.003532215498913983\n",
      "            }\n",
      "        ],\n",
      "        \"frozen\" : false\n",
      "    },\n",
      "    \"name\" : \"s1\",\n",
      "    \"weight\" : 1.0\n",
      "}{\n",
      "    \"class\" : \"State\",\n",
      "    \"distribution\" : {\n",
      "        \"class\" : \"Distribution\",\n",
      "        \"dtype\" : \"numpy.uint8\",\n",
      "        \"name\" : \"DiscreteDistribution\",\n",
      "        \"parameters\" : [\n",
      "            {\n",
      "                \"0\" : 0.0,\n",
      "                \"2\" : 0.0029368154325624305,\n",
      "                \"3\" : 0.00010925323332908701,\n",
      "                \"4\" : 0.05364753272235401,\n",
      "                \"6\" : 0.009731798073038474,\n",
      "                \"7\" : 0.004533602452359056,\n",
      "                \"8\" : 0.015423493500712445,\n",
      "                \"10\" : 0.0,\n",
      "                \"11\" : 0.01506892754522995,\n",
      "                \"12\" : 0.0,\n",
      "                \"13\" : 2.0153920465817077e-161,\n",
      "                \"14\" : 0.0,\n",
      "                \"15\" : 7.893307860631697e-173,\n",
      "                \"17\" : 0.0005779106147709541,\n",
      "                \"20\" : 0.19216367458647496,\n",
      "                \"31\" : 0.2140483415385847,\n",
      "                \"32\" : 0.3879265462661503,\n",
      "                \"33\" : 0.051964248999744396,\n",
      "                \"34\" : 0.013808055782838087,\n",
      "                \"35\" : 0.0005483776972305489,\n",
      "                \"45\" : 0.001859709140176162,\n",
      "                \"50\" : 0.020229267901425957,\n",
      "                \"51\" : 0.00023862084937472275,\n",
      "                \"52\" : 0.008690794568238803,\n",
      "                \"53\" : 0.00481113608836216,\n",
      "                \"85\" : 0.0014504499047515097,\n",
      "                \"120\" : 6.591006542517723e-108,\n",
      "                \"192\" : 0.00023144310229101858,\n",
      "                \"201\" : 0.0,\n",
      "                \"203\" : 5.253134585475974e-165,\n",
      "                \"204\" : 7.783526890430405e-187,\n",
      "                \"255\" : 0.0\n",
      "            }\n",
      "        ],\n",
      "        \"frozen\" : false\n",
      "    },\n",
      "    \"name\" : \"s2\",\n",
      "    \"weight\" : 1.0\n",
      "}{\n",
      "    \"class\" : \"State\",\n",
      "    \"distribution\" : {\n",
      "        \"class\" : \"Distribution\",\n",
      "        \"dtype\" : \"numpy.uint8\",\n",
      "        \"name\" : \"DiscreteDistribution\",\n",
      "        \"parameters\" : [\n",
      "            {\n",
      "                \"0\" : 0.007255401051195453,\n",
      "                \"2\" : 0.001346772151051648,\n",
      "                \"3\" : 0.0018628796516598671,\n",
      "                \"4\" : 2.789888929418893e-16,\n",
      "                \"6\" : 0.011656359353309923,\n",
      "                \"7\" : 0.0016326905240561676,\n",
      "                \"8\" : 0.0,\n",
      "                \"10\" : 0.0,\n",
      "                \"11\" : 0.00261836962054507,\n",
      "                \"12\" : 0.0,\n",
      "                \"13\" : 4.621151608528181e-82,\n",
      "                \"14\" : 0.0,\n",
      "                \"15\" : 0.0009290578513555598,\n",
      "                \"17\" : 0.022898736143458928,\n",
      "                \"20\" : 0.06199135078535463,\n",
      "                \"31\" : 0.1508397741642158,\n",
      "                \"32\" : 0.4009894489224239,\n",
      "                \"33\" : 1.6781144245969044e-297,\n",
      "                \"34\" : 0.0,\n",
      "                \"35\" : 0.131968344601893,\n",
      "                \"45\" : 0.011719094821520896,\n",
      "                \"50\" : 0.15958325780427282,\n",
      "                \"51\" : 0.010714795682543785,\n",
      "                \"52\" : 0.01320643522200229,\n",
      "                \"53\" : 0.005276624703603576,\n",
      "                \"85\" : 2.4046104121685585e-62,\n",
      "                \"120\" : 0.0014227154908688679,\n",
      "                \"192\" : 0.0,\n",
      "                \"201\" : 1.614007878127576e-43,\n",
      "                \"203\" : 0.0020878914546685265,\n",
      "                \"204\" : 0.0,\n",
      "                \"255\" : 0.0\n",
      "            }\n",
      "        ],\n",
      "        \"frozen\" : false\n",
      "    },\n",
      "    \"name\" : \"s3\",\n",
      "    \"weight\" : 1.0\n",
      "}{\n",
      "    \"class\" : \"State\",\n",
      "    \"distribution\" : null,\n",
      "    \"name\" : \"None-start\",\n",
      "    \"weight\" : 1.0\n",
      "}{\n",
      "    \"class\" : \"State\",\n",
      "    \"distribution\" : null,\n",
      "    \"name\" : \"None-end\",\n",
      "    \"weight\" : 1.0\n",
      "}\n"
     ]
    }
   ],
   "source": [
    "# Load trained modelo with 4 hidden states and discrite distribution for observation emission prob. distribution\n",
    "model = pickle.load(file=open(cfg.resource(\"hmm.pickle\"), 'rb'))\n",
    "print(model)"
   ]
  },
  {
   "cell_type": "code",
   "execution_count": 5,
   "metadata": {
    "pycharm": {
     "name": "#%%\n"
    }
   },
   "outputs": [
    {
     "data": {
      "text/plain": [
       "['s0', 's1', 's2', 's3', 'None-start', 'None-end']"
      ]
     },
     "execution_count": 5,
     "metadata": {},
     "output_type": "execute_result"
    }
   ],
   "source": [
    "[x.name for x in model.states]"
   ]
  },
  {
   "cell_type": "code",
   "execution_count": 6,
   "metadata": {
    "pycharm": {
     "name": "#%%\n"
    }
   },
   "outputs": [],
   "source": [
    "def plot_fw_matrix(sequence, model, lu_dict):\n",
    "    fw_matrix = np.exp(model.forward(sequence))\n",
    "\n",
    "    # Display the forward probabilities\n",
    "    print(\"         \" + \"\".join(s.name.center(len(s.name)+10) for s in model.states))\n",
    "    for i in range(len(sequence) + 1):\n",
    "        print(\" <start> \" if i==0 else lu_dict[str(sequence[i - 1])].center(9), end=\"\")\n",
    "        print(\"\".join(\"{:.5%}\".format(fw_matrix[i, j]).center(len(s.name) + 10)\n",
    "                      for j, s in enumerate(model.states)))"
   ]
  },
  {
   "cell_type": "code",
   "execution_count": 7,
   "metadata": {
    "pycharm": {
     "name": "#%%\n"
    }
   },
   "outputs": [
    {
     "name": "stdout",
     "output_type": "stream",
     "text": [
      "Sequence of length 10 --> [32 50 32 32 20 31 20 32 32 20]\n",
      "\n",
      "To calculate the likelihood of an observation sequence from an HMM we can use the forward algorithm.\n",
      " The model returns the forward matrix, with the log-likelihood of each state, we have to appli exp. to obtain\n",
      " probabilities.\n",
      "Matrix is size: (11, 6)\n",
      "\n",
      "The matrix shows per each row the probability of emitting the observed crop in each state.\n",
      "\n",
      "              s0          s1          s2          s3          None-start          None-end     \n",
      " <start>   0.00000%    0.00000%    0.00000%    0.00000%       100.00000%          0.00000%     \n",
      "  Barley  52.31606%    0.05927%    0.00000%    0.00000%        0.00000%           0.00000%     \n",
      "Sunflower  2.13155%    0.05812%    0.00009%    3.28571%        0.00000%           0.00000%     \n",
      "  Barley   0.64694%    0.00289%    0.45369%    1.18680%        0.00000%           0.00000%     \n",
      "  Barley   0.19635%    0.00063%    0.33895%    0.40922%        0.00000%           0.00000%     \n",
      "Bare soil  0.00575%    0.00036%    0.09288%    0.02116%        0.00000%           0.00000%     \n",
      "  Wheat    0.00045%    0.00003%    0.02145%    0.00240%        0.00000%           0.00000%     \n",
      "Bare soil  0.00001%    0.00000%    0.00428%    0.00011%        0.00000%           0.00000%     \n",
      "  Barley   0.00000%    0.00000%    0.00167%    0.00003%        0.00000%           0.00000%     \n",
      "  Barley   0.00000%    0.00000%    0.00065%    0.00001%        0.00000%           0.00000%     \n",
      "Bare soil  0.00000%    0.00000%    0.00013%    0.00000%        0.00000%           0.00000%     \n",
      "\n",
      "To compute the probability of the sequence we call the method log_probabilityy and again transform the values from log-prob to probability:\n",
      "\n",
      "\n",
      "The likelihood over all possible paths of this model producing the sequence [32 50 32 32 20 31 20 32 32 20] is 0.0001257028%\n",
      "\n",
      "\n"
     ]
    }
   ],
   "source": [
    "# Lets take one sequence from the dataset and  estimate the emision probability given the model (problem type -1)\n",
    "sample = X[1,:]\n",
    "print(\"Sequence of length {} --> {}\\n\".format(len(sample),sample))\n",
    "\n",
    "\n",
    "print(\"\"\"To calculate the likelihood of an observation sequence from an HMM we can use the forward algorithm.\n",
    " The model returns the forward matrix, with the log-likelihood of each state, we have to appli exp. to obtain\n",
    " probabilities.\"\"\"\n",
    "      )\n",
    "\n",
    "fw_matrix = np.exp(model.forward(sample))\n",
    "print(\"Matrix is size: {}\".format(fw_matrix.shape))\n",
    "# print(fw_matrix)\n",
    "\n",
    "print(\"\"\"\n",
    "The matrix shows per each row the probability of emitting the observed crop in each state.\n",
    "\"\"\")\n",
    "\n",
    "plot_fw_matrix(sample, model, lu_dict)\n",
    "\n",
    "\n",
    "print(\"\"\"\n",
    "To compute the probability of the sequence we call the method log_probabilityy and again transform the values from log-prob to probability:\n",
    "\"\"\")\n",
    "probability_percentage = np.exp(model.log_probability(sample))\n",
    "\n",
    "print(\"\\nThe likelihood over all possible paths \" + \\\n",
    "      \"of this model producing the sequence {} is {:.10%}\\n\\n\"\n",
    "      .format(sample, probability_percentage))"
   ]
  },
  {
   "cell_type": "code",
   "execution_count": 8,
   "metadata": {
    "pycharm": {
     "name": "#%%\n"
    }
   },
   "outputs": [
    {
     "name": "stdout",
     "output_type": "stream",
     "text": [
      "              s0          s1          s2          s3          None-start          None-end     \n",
      " <start>   0.00000%    0.00000%    0.00000%    0.00000%       100.00000%          0.00000%     \n",
      "  Barley  52.31606%    0.05927%    0.00000%    0.00000%        0.00000%           0.00000%     \n",
      "  Wheat    4.11391%    0.08384%    0.00091%    3.10568%        0.00000%           0.00000%     \n",
      "Bare soil  0.12038%    0.00941%    0.21298%    0.22465%        0.00000%           0.00000%     \n",
      "  Barley   0.03654%    0.00028%    0.11360%    0.07716%        0.00000%           0.00000%     \n",
      "\n",
      "The likelihood over all possible paths of this model producing the sequence [32, 31, 20, 32] is 0.2275736435%%\n",
      "\n",
      "\n"
     ]
    }
   ],
   "source": [
    "# shorter sequences can be used:\n",
    "#     \"32\": \"Barley\",\n",
    "#     \"31\": \"Wheat\",\n",
    "#     \"20\": \"Bare soil\",\n",
    "sample = [32, 31, 20, 32]\n",
    "plot_fw_matrix(sample, model, lu_dict)\n",
    "\n",
    "probability_percentage = np.exp(model.log_probability(sample))\n",
    "\n",
    "print(\"\\nThe likelihood over all possible paths \" + \\\n",
    "      \"of this model producing the sequence {} is {:.10%}%\\n\\n\"\n",
    "      .format(sample, probability_percentage))"
   ]
  },
  {
   "cell_type": "markdown",
   "metadata": {
    "pycharm": {
     "name": "#%% md\n"
    }
   },
   "source": [
    "Decoding the most probable hicced state sequence"
   ]
  },
  {
   "cell_type": "code",
   "execution_count": 9,
   "metadata": {
    "pycharm": {
     "name": "#%%\n"
    }
   },
   "outputs": [
    {
     "name": "stdout",
     "output_type": "stream",
     "text": [
      "Lets try to give meaning to hidden states by extracting the hidden sequence\n",
      "The most likely hidden state sequence to have generated these observations is ['s0', 's3', 's2', 's2'] at 0.08191%.\n"
     ]
    }
   ],
   "source": [
    "\n",
    "print(\"Lets try to give meaning to hidden states by extracting the hidden sequence\")\n",
    "\n",
    "viterbi_likelihood, viterbi_path = model.viterbi(sample)\n",
    "\n",
    "print(\"The most likely hidden state sequence to have generated these observations is {} at {:.5%}.\"\n",
    "      .format([s[1].name for s in viterbi_path[1:]], np.exp(viterbi_likelihood))\n",
    ")"
   ]
  },
  {
   "cell_type": "code",
   "execution_count": 61,
   "metadata": {
    "pycharm": {
     "name": "#%%\n"
    }
   },
   "outputs": [
    {
     "name": "stdout",
     "output_type": "stream",
     "text": [
      "\n",
      "As an use case of this model lets think we want to predict the next land usage for a sequence given the last N years.\n",
      "For this we have to calculate the probability for all the possible N+1 sequences using forward algorithm and keep the\n",
      "one with the highest probability.\n",
      "\n",
      "Abandoned woody crops:\t 0.00039%\n",
      "Alfalfa:\t 0.29109%\n",
      "Artificial surfaces:\t 0.05254%\n",
      "Bare soil:\t 19.04693%\n",
      "Barley:\t 38.45061%\n",
      "Beet:\t 0.47687%\n",
      "Bodies of water:\t 0.00118%\n",
      "Broad-leaved deciduous trees:\t 0.01375%\n",
      "Broad-leaved evergreen trees:\t 0.00275%\n",
      "Coniferous trees:\t 0.04104%\n",
      "Fruit trees:\t 0.00432%\n",
      "Grassland:\t 0.14377%\n",
      "Green peas:\t 0.44936%\n",
      "Horticultural crops:\t 0.11572%\n",
      "Maize:\t 0.05415%\n",
      "Nuts trees:\t 0.00469%\n",
      "Oats:\t 1.36863%\n",
      "Olive groves:\t 0.00455%\n",
      "Other cereals:\t 0.66689%\n",
      "Other leguminous:\t 0.18433%\n",
      "Populus plantations :\t 0.02294%\n",
      "Potatoes:\t 0.86142%\n",
      "Rapeseed:\t 0.96460%\n",
      "Ray Grass:\t 1.49361%\n",
      "Rye:\t 5.15061%\n",
      "Scrub:\t 0.05359%\n",
      "Sunflower:\t 2.00509%\n",
      "Uncultivated land :\t 5.31745%\n",
      "Vetch:\t 1.52875%\n",
      "Vineyard:\t 0.01227%\n",
      "Wheat:\t 21.21610%\n",
      "\n",
      "Most probable next land usage for sequence ['Barley', 'Wheat', 'Bare soil', 'Barley', 'Barley', 'Barley', 'Barley', 'Barley', 'Barley', 'Barley', 'Barley', 'Barley']: <<Barley>> with probability 38.45061%\n",
      "\n"
     ]
    }
   ],
   "source": [
    "print(\"\"\"\n",
    "As an use case of this model lets think we want to predict the next land usage for a sequence given the last N years.\n",
    "For this we have to calculate the probability for all the possible N+1 sequences using forward algorithm and keep the\n",
    "one with the highest probability.\n",
    "\"\"\")\n",
    "n_sequence  = [32, 31, 20, 32, 32, 32, 32, 32, 32, 32, 32, 32]\n",
    "land_usages = lu_dict.keys()\n",
    "\n",
    "next_sequences = {lu_dict[x]: n_sequence + [int(x)]  for x in land_usages}\n",
    "# calculate forward prob for each algorith\n",
    "\n",
    "max_prob = -99999\n",
    "lu_max_prob = None\n",
    "total = 0\n",
    "lu_prob = {}\n",
    "for lu in sorted(next_sequences):\n",
    "    try:\n",
    "        fw_matrix = model.forward(next_sequences[lu])\n",
    "        lu_prob[lu] = max(np.exp(fw_matrix[-1,:]))\n",
    "        if lu_prob[lu] > max_prob:\n",
    "            max_prob = lu_prob[lu]\n",
    "            lu_max_prob = lu\n",
    "        total += lu_prob[lu]\n",
    "    except:\n",
    "        pass\n",
    "\n",
    "for lu in sorted(lu_prob):\n",
    "    print(\"{}:\\t {:.5%}\".format(lu, lu_prob[lu]/total))\n",
    "\n",
    "print(\"\"\"\n",
    "Most probable next land usage for sequence {}: <<{}>> with probability {:.5%}\n",
    "\"\"\".format([ lu_dict[str(x)] for x in n_sequence], lu_max_prob, max_prob/total ))\n",
    "# fw_matrix = np.exp(model.forward(next_sequences[2]))\n",
    "# print(max(fw_matrix[-1,:]))"
   ]
  },
  {
   "cell_type": "markdown",
   "metadata": {
    "pycharm": {
     "name": "#%% md\n"
    }
   },
   "source": [
    "the model is not performing well, after passing 2-3 years the crop is likely to change. The model doesn't take into account the expected change in hidden state."
   ]
  },
  {
   "cell_type": "code",
   "execution_count": 63,
   "metadata": {
    "pycharm": {
     "name": "#%%\n"
    }
   },
   "outputs": [
    {
     "data": {
      "text/plain": [
       "array([[1.01188788e+000, 3.60269860e-003, 4.48086807e-063,\n",
       "        8.74792199e-001, 0.00000000e+000, 0.00000000e+000],\n",
       "       [1.06733705e-153, 5.94067488e-004, 3.37519503e-003,\n",
       "        1.82842609e-004, 0.00000000e+000, 0.00000000e+000],\n",
       "       [8.14260474e-099, 6.20975165e-005, 8.29926346e-001,\n",
       "        7.38514668e-050, 0.00000000e+000, 0.00000000e+000],\n",
       "       [2.38634702e-062, 2.30624707e-045, 5.93595614e-001,\n",
       "        6.81981059e-001, 0.00000000e+000, 0.00000000e+000],\n",
       "       [9.99648945e-001, 3.51054602e-004, 5.76987688e-097,\n",
       "        1.01585421e-071, 0.00000000e+000, 0.00000000e+000],\n",
       "       [0.00000000e+000, 0.00000000e+000, 0.00000000e+000,\n",
       "        0.00000000e+000, 0.00000000e+000, 0.00000000e+000]])"
      ]
     },
     "execution_count": 63,
     "metadata": {},
     "output_type": "execute_result"
    }
   ],
   "source": [
    "sequence  = [32, 31, 20, 32, 32]\n",
    "emission, transition = model.forward_backward(sequence)\n",
    "emission"
   ]
  },
  {
   "cell_type": "code",
   "execution_count": 64,
   "metadata": {
    "pycharm": {
     "name": "#%%\n"
    }
   },
   "outputs": [
    {
     "data": {
      "text/plain": [
       "array([[-3.51116236e-04, -7.95456879e+00, -2.21598103e+02,\n",
       "        -1.63467812e+02],\n",
       "       [-8.23355572e-01, -6.05585773e+00, -8.15968774e+00,\n",
       "        -5.82655146e-01],\n",
       "       [-1.32038301e+00, -6.64093959e+00, -1.05298751e+00,\n",
       "        -9.60327975e-01],\n",
       "       [-1.68932241e+00, -8.79717088e+00, -7.32285956e-01,\n",
       "        -1.09543050e+00],\n",
       "       [-2.10986737e+00, -7.68904959e+00, -5.15991089e-01,\n",
       "        -1.26805124e+00]])"
      ]
     },
     "execution_count": 64,
     "metadata": {},
     "output_type": "execute_result"
    }
   ],
   "source": [
    "transition"
   ]
  },
  {
   "cell_type": "code",
   "execution_count": 92,
   "metadata": {
    "pycharm": {
     "name": "#%%\n"
    }
   },
   "outputs": [
    {
     "name": "stdout",
     "output_type": "stream",
     "text": [
      "\n",
      "Lest try to get the next observation probability using the trasition matrix, we first need the most probahle final state,\n",
      "for this we will use the viterbi algorithm\n",
      "\n",
      "having the final state we just need to get the max value from the discrete distribution parameters\n",
      "Next most probable Land usage: <<Barley>> with probability: 38.79265%\n"
     ]
    }
   ],
   "source": [
    "print(\"\"\"\n",
    "Lest try to get the next observation probability using the transition matrix, we first need the most probable final state,\n",
    "for this we will use the viterbi algorithm\n",
    "\"\"\")\n",
    "\n",
    "logp, path = model.viterbi(sequence)\n",
    "last_state = path[-1]\n",
    "\n",
    "print(\"Having the final state we just need to get the max value from the discrete distribution parameters\")\n",
    "distrib = last_state[1].distribution.parameters[0]\n",
    "import operator\n",
    "max_key = max(distrib.items(), key=operator.itemgetter(1))[0]\n",
    "print(\"Next most probable Land usage: <<{}>> with probability: {:.5%}\".format(lu_dict[str(max_key)], distrib[max_key]))\n",
    "\n",
    "print(\"Same results\")"
   ]
  }
 ],
 "metadata": {
  "kernelspec": {
   "display_name": "Python 3 (ipykernel)",
   "language": "python",
   "name": "python3"
  },
  "language_info": {
   "codemirror_mode": {
    "name": "ipython",
    "version": 3
   },
   "file_extension": ".py",
   "mimetype": "text/x-python",
   "name": "python",
   "nbconvert_exporter": "python",
   "pygments_lexer": "ipython3",
   "version": "3.8.10"
  }
 },
 "nbformat": 4,
 "nbformat_minor": 1
}